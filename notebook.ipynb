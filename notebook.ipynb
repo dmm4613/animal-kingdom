{
 "cells": [
  {
   "cell_type": "markdown",
   "metadata": {},
   "source": [
    "# Animal Kingdom EDA\n",
    "\n",
    "## An exploration of the animal kingdom"
   ]
  },
  {
   "cell_type": "code",
   "execution_count": 2,
   "metadata": {},
   "outputs": [],
   "source": [
    "import numpy as np\n",
    "import pandas as pd\n",
    "import matplotlib.pyplot as plt\n",
    "import seaborn as sns\n"
   ]
  },
  {
   "cell_type": "code",
   "execution_count": 4,
   "metadata": {},
   "outputs": [
    {
     "name": "stdout",
     "output_type": "stream",
     "text": [
      "<class 'pandas.core.frame.DataFrame'>\n",
      "RangeIndex: 29357 entries, 0 to 29356\n",
      "Data columns (total 22 columns):\n",
      " #   Column           Non-Null Count  Dtype \n",
      "---  ------           --------------  ----- \n",
      " 0   Name             29357 non-null  object\n",
      " 1   Kingdom          29357 non-null  object\n",
      " 2   Phylum           28525 non-null  object\n",
      " 3   Subphylum        10752 non-null  object\n",
      " 4   Class            29357 non-null  object\n",
      " 5   Order            28920 non-null  object\n",
      " 6   Suborder         2960 non-null   object\n",
      " 7   Family           29354 non-null  object\n",
      " 8   Genus            29351 non-null  object\n",
      " 9   Species          29357 non-null  object\n",
      " 10  Population size  1806 non-null   object\n",
      " 11  Life span        1862 non-null   object\n",
      " 12  Top speed        595 non-null    object\n",
      " 13  Weight           2873 non-null   object\n",
      " 14  Height           336 non-null    object\n",
      " 15  Length           2947 non-null   object\n",
      " 16  Attributes       29357 non-null  object\n",
      " 17  Distribution     29357 non-null  object\n",
      " 18  Habits           29357 non-null  object\n",
      " 19  Diet             2644 non-null   object\n",
      " 20  Mating_Habits    29357 non-null  object\n",
      " 21  Population       29357 non-null  object\n",
      "dtypes: object(22)\n",
      "memory usage: 4.9+ MB\n"
     ]
    }
   ],
   "source": [
    "animals = pd.read_csv('data/animals_info.csv')\n",
    "animals.info()"
   ]
  }
 ],
 "metadata": {
  "kernelspec": {
   "display_name": "tf-gpu",
   "language": "python",
   "name": "python3"
  },
  "language_info": {
   "codemirror_mode": {
    "name": "ipython",
    "version": 3
   },
   "file_extension": ".py",
   "mimetype": "text/x-python",
   "name": "python",
   "nbconvert_exporter": "python",
   "pygments_lexer": "ipython3",
   "version": "3.9.19"
  }
 },
 "nbformat": 4,
 "nbformat_minor": 2
}
